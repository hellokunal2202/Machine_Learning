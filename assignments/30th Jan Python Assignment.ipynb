{
 "cells": [
  {
   "cell_type": "code",
   "execution_count": null,
   "id": "cbbe9100",
   "metadata": {},
   "outputs": [],
   "source": [
    "#Ans 1\n",
    "\n",
    "percent=int(input('Enter percentage:'))\n",
    "if percent>90:\n",
    "    print('A')\n",
    "elif percent>80 and percent<=90:\n",
    "    print('B')\n",
    "elif percent>=60 and percent<=80:\n",
    "    print('C')\n",
    "else:\n",
    "    print('D')\n"
   ]
  },
  {
   "cell_type": "code",
   "execution_count": null,
   "id": "7be4471f",
   "metadata": {},
   "outputs": [],
   "source": [
    "#Ans 2\n",
    "bike_price=int(input('Enter bike price: '))\n",
    "if bike_price>100000:\n",
    "    print('15% tax')\n",
    "elif bike_price>50000 and bike_price<=100000:\n",
    "    print('10% tax')\n",
    "else:\n",
    "    print('5% tax')\n",
    "    "
   ]
  },
  {
   "cell_type": "code",
   "execution_count": null,
   "id": "e8d5ad2d",
   "metadata": {},
   "outputs": [],
   "source": [
    "city=input(\"Enter city name:\")\n",
    "if(city.lower()=='delhi'):\n",
    "    print(\"Red fort\")\n",
    "elif(city.lower()=='agra'):\n",
    "    print(\"Taj Mahal\")\n",
    "elif(city.lower()=='jaipur'):\n",
    "    print(\"Jal Mahal\")\n",
    "else:\n",
    "    print(\"Enter valid choice\")"
   ]
  },
  {
   "cell_type": "code",
   "execution_count": null,
   "id": "0181682d",
   "metadata": {},
   "outputs": [],
   "source": [
    "##Ans 3\n",
    "\n",
    "num=int(input('Enter a  number: '))\n",
    "count = 0\n",
    "while num > 10:\n",
    "    num = num / 3\n",
    "    count += 1\n",
    "print(count)"
   ]
  },
  {
   "cell_type": "code",
   "execution_count": null,
   "id": "d43fea50",
   "metadata": {},
   "outputs": [],
   "source": [
    "#Ans 5\n",
    "\"\"\"When we don't know how many times will the loop will be executed\"\"\""
   ]
  },
  {
   "cell_type": "code",
   "execution_count": null,
   "id": "4c17d434",
   "metadata": {},
   "outputs": [],
   "source": [
    "#Ans 8\n",
    "i=10\n",
    "while(i):\n",
    "    print(i)\n",
    "    i=i-1"
   ]
  },
  {
   "cell_type": "code",
   "execution_count": null,
   "id": "abfa0e6e",
   "metadata": {},
   "outputs": [],
   "source": []
  },
  {
   "cell_type": "code",
   "execution_count": null,
   "id": "fed381a9",
   "metadata": {},
   "outputs": [],
   "source": []
  }
 ],
 "metadata": {
  "kernelspec": {
   "display_name": "Python 3 (ipykernel)",
   "language": "python",
   "name": "python3"
  },
  "language_info": {
   "codemirror_mode": {
    "name": "ipython",
    "version": 3
   },
   "file_extension": ".py",
   "mimetype": "text/x-python",
   "name": "python",
   "nbconvert_exporter": "python",
   "pygments_lexer": "ipython3",
   "version": "3.10.8"
  }
 },
 "nbformat": 4,
 "nbformat_minor": 5
}
