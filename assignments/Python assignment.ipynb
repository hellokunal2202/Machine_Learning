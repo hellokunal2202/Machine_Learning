{
 "cells": [
  {
   "cell_type": "markdown",
   "id": "7aa83ceb",
   "metadata": {},
   "source": [
    "#Ans 1:\n",
    "The for loop is used when we already know the number of iterations, which means when we know how many times a statement has to be executed. That is why we have to specify the ending point in the for loop initialization.\n",
    "\n",
    "When we need to end the loop on a condition other than the number of times, we use a while loop."
   ]
  },
  {
   "cell_type": "code",
   "execution_count": null,
   "id": "c8272cef",
   "metadata": {},
   "outputs": [],
   "source": [
    "#while loop:\n",
    "i = 1  # Initialization\n",
    "while i < 6:  # Condition\n",
    "    print(i)\n",
    "    i += 1  # Updation\n",
    "\n",
    "#for loop:\n",
    "n = [1, 2, 3]  # Initialization\n",
    "for i in n:  # Condition and Updation\n",
    "    print(i)\n"
   ]
  },
  {
   "cell_type": "code",
   "execution_count": null,
   "id": "8def82cb",
   "metadata": {},
   "outputs": [],
   "source": [
    "#Ans 2\n",
    "print(\"Enter the Value of n: \")\n",
    "n = int(input())\n",
    "sum = 0\n",
    "product=1\n",
    "for i in range(1, n+1):\n",
    "    sum = sum+i\n",
    "    product=product*i\n",
    "print(\"\\nSum =\", sum)\n",
    "print(\"\\nProduct: =\", product)"
   ]
  },
  {
   "cell_type": "code",
   "execution_count": null,
   "id": "b3c8f7aa",
   "metadata": {},
   "outputs": [],
   "source": [
    "#ans 4\n",
    "l1=list(range(1,101))\n",
    "cube=[]\n",
    "for i in range(0,100):\n",
    "    l1[i]=l1[i]**3\n",
    "    if( l1[i]%4==0 or  l1[i]%5==0):\n",
    "        cube.append(l1[i])\n",
    "cube\n",
    "\n",
    "        "
   ]
  },
  {
   "cell_type": "code",
   "execution_count": null,
   "id": "7dd0d214",
   "metadata": {},
   "outputs": [],
   "source": [
    "#Ans 5:\n",
    "s=\"I want to become a data scientist\"\n",
    "v={}\n",
    "v=set(v)\n",
    "for x in s:\n",
    "    if(x=='a' or x=='i' or x=='o' or x=='u'):\n",
    "        v.add(x)\n",
    "print(v)"
   ]
  },
  {
   "cell_type": "code",
   "execution_count": null,
   "id": "68d9c319",
   "metadata": {},
   "outputs": [],
   "source": []
  },
  {
   "cell_type": "code",
   "execution_count": null,
   "id": "f8331f71",
   "metadata": {},
   "outputs": [],
   "source": []
  }
 ],
 "metadata": {
  "kernelspec": {
   "display_name": "Python 3 (ipykernel)",
   "language": "python",
   "name": "python3"
  },
  "language_info": {
   "codemirror_mode": {
    "name": "ipython",
    "version": 3
   },
   "file_extension": ".py",
   "mimetype": "text/x-python",
   "name": "python",
   "nbconvert_exporter": "python",
   "pygments_lexer": "ipython3",
   "version": "3.10.8"
  }
 },
 "nbformat": 4,
 "nbformat_minor": 5
}
